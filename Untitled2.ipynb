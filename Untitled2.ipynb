{
 "cells": [
  {
   "cell_type": "code",
   "execution_count": null,
   "id": "5b86e604",
   "metadata": {},
   "outputs": [],
   "source": [
    "#11.2\n",
    "import zoo\n",
    "\n",
    "\n",
    "zoo.hours()\n",
    "#16.8\n",
    "from sqlalchemy import create_engine, select, Table, Column, String, Integer\n",
    "#Create sql connection\n",
    "engine = create_engine('sqlite:///books.db', echo=True)\n",
    "\n",
    "metadata = Table(\n",
    "    'books',\n",
    "    Column('id', Integer, primary_key=True),\n",
    "    Column('title', String),\n",
    "    Column('author', String),\n",
    "    Column('year', Integer)\n",
    ")\n",
    "\n",
    "connection = engine.connect()\n",
    "\n",
    "select_statement = select([metadata.c.title]).order_by(metadata.c.title)\n",
    "\n",
    "results = connection.execute(select_statement).fetchall()\n",
    "\n",
    "# Print the titles in alphabetical order\n",
    "for row in results:\n",
    "    print(row.title)\n",
    "\n",
    "# Close the database connection\n",
    "connection.close()"
   ]
  }
 ],
 "metadata": {
  "kernelspec": {
   "display_name": "Python 3 (ipykernel)",
   "language": "python",
   "name": "python3"
  },
  "language_info": {
   "codemirror_mode": {
    "name": "ipython",
    "version": 3
   },
   "file_extension": ".py",
   "mimetype": "text/x-python",
   "name": "python",
   "nbconvert_exporter": "python",
   "pygments_lexer": "ipython3",
   "version": "3.11.4"
  }
 },
 "nbformat": 4,
 "nbformat_minor": 5
}
